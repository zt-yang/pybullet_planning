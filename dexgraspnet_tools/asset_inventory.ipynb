{
 "cells": [
  {
   "cell_type": "code",
   "execution_count": null,
   "id": "a3fe1ed3",
   "metadata": {},
   "outputs": [],
   "source": [
    "import os\n",
    "from os.path import join\n",
    "import random\n",
    "import numpy as np\n",
    "import transforms3d\n",
    "import torch\n",
    "import trimesh\n",
    "from tqdm import tqdm\n",
    "import sys\n",
    "\n",
    "from trimesh.bounds import oriented_bounds\n",
    "from trimesh.transformations import translation_from_matrix, translation_matrix\n",
    "\n",
    "meshdata_path = \"/home/zhutianyang/Documents/DexGraspNet/data/downloaded/meshdata\""
   ]
  }
 ],
 "metadata": {
  "kernelspec": {
   "display_name": "dexgraspnet",
   "language": "python",
   "name": "dexgraspnet"
  },
  "language_info": {
   "codemirror_mode": {
    "name": "ipython",
    "version": 3
   },
   "file_extension": ".py",
   "mimetype": "text/x-python",
   "name": "python",
   "nbconvert_exporter": "python",
   "pygments_lexer": "ipython3",
   "version": "3.7.16"
  }
 },
 "nbformat": 4,
 "nbformat_minor": 5
}
